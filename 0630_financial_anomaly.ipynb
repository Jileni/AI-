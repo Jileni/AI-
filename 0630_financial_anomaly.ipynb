{
 "cells": [
  {
   "cell_type": "code",
   "execution_count": 1,
   "metadata": {},
   "outputs": [
    {
     "name": "stderr",
     "output_type": "stream",
     "text": [
      "Using TensorFlow backend.\n"
     ]
    }
   ],
   "source": [
    "# install libraries for keras\n",
    "# !pip3 install keras\n",
    "# !pip3 install h5py\n",
    "\n",
    "import pandas as pd  \n",
    "import matplotlib.pyplot as plt\n",
    "import datetime, random\n",
    "import numpy as np; np.random.seed(0)\n",
    "import matplotlib.pyplot as plt\n",
    "from sklearn import preprocessing\n",
    "import warnings\n",
    "warnings.filterwarnings('ignore')\n",
    "from sklearn.model_selection import train_test_split\n",
    "from keras.models import Model, load_model\n",
    "from keras.layers import Input, Dense, Lambda\n",
    "from keras.callbacks import ModelCheckpoint, TensorBoard\n",
    "from keras import regularizers\n",
    "from keras.utils import to_categorical\n",
    "from keras.callbacks import EarlyStopping\n",
    "from keras.layers.merge import concatenate as concat\n",
    "from keras import backend as K\n",
    "from keras.optimizers import Adam\n",
    "%matplotlib inline"
   ]
  },
  {
   "cell_type": "markdown",
   "metadata": {},
   "source": [
    "## Implementing CVAE on label "
   ]
  },
  {
   "cell_type": "markdown",
   "metadata": {},
   "source": [
    "<H2>Import data</H2>\n"
   ]
  },
  {
   "cell_type": "code",
   "execution_count": null,
   "metadata": {},
   "outputs": [],
   "source": [
    "# Load directly from GitHub\n",
    "stock_data_file = 'https://raw.githubusercontent.com/CNuge/kaggle-code/master/stock_data/all_stocks_5yr.csv'\n",
    "stocks_df = pd.read_csv(stock_data_file, parse_dates=['date'])\n",
    "stocks_df.head()"
   ]
  },
  {
   "cell_type": "code",
   "execution_count": 13,
   "metadata": {},
   "outputs": [
    {
     "name": "stdout",
     "output_type": "stream",
     "text": [
      "Stocks found: 505\n",
      "Date range: 2013-02-08 - 2018-02-07\n"
     ]
    }
   ],
   "source": [
    "print('Stocks found:', len(set(stocks_df['Name'])))\n",
    "print('Date range:', str(np.min(stocks_df['date']))[:10], '-', str(np.max(stocks_df['date']))[:10])"
   ]
  },
  {
   "cell_type": "markdown",
   "metadata": {},
   "source": [
    "**Create quantitative features**"
   ]
  },
  {
   "cell_type": "code",
   "execution_count": 14,
   "metadata": {},
   "outputs": [
    {
     "data": {
      "text/html": [
       "<div>\n",
       "<style scoped>\n",
       "    .dataframe tbody tr th:only-of-type {\n",
       "        vertical-align: middle;\n",
       "    }\n",
       "\n",
       "    .dataframe tbody tr th {\n",
       "        vertical-align: top;\n",
       "    }\n",
       "\n",
       "    .dataframe thead th {\n",
       "        text-align: right;\n",
       "    }\n",
       "</style>\n",
       "<table border=\"1\" class=\"dataframe\">\n",
       "  <thead>\n",
       "    <tr style=\"text-align: right;\">\n",
       "      <th></th>\n",
       "      <th>date</th>\n",
       "      <th>open</th>\n",
       "      <th>high</th>\n",
       "      <th>low</th>\n",
       "      <th>close</th>\n",
       "      <th>volume</th>\n",
       "      <th>Name</th>\n",
       "      <th>day</th>\n",
       "      <th>day_of_month</th>\n",
       "    </tr>\n",
       "  </thead>\n",
       "  <tbody>\n",
       "    <tr>\n",
       "      <th>0</th>\n",
       "      <td>2013-02-08</td>\n",
       "      <td>15.07</td>\n",
       "      <td>15.12</td>\n",
       "      <td>14.63</td>\n",
       "      <td>14.75</td>\n",
       "      <td>8407500</td>\n",
       "      <td>AAL</td>\n",
       "      <td>4</td>\n",
       "      <td>8</td>\n",
       "    </tr>\n",
       "    <tr>\n",
       "      <th>1</th>\n",
       "      <td>2013-02-11</td>\n",
       "      <td>14.89</td>\n",
       "      <td>15.01</td>\n",
       "      <td>14.26</td>\n",
       "      <td>14.46</td>\n",
       "      <td>8882000</td>\n",
       "      <td>AAL</td>\n",
       "      <td>0</td>\n",
       "      <td>11</td>\n",
       "    </tr>\n",
       "    <tr>\n",
       "      <th>2</th>\n",
       "      <td>2013-02-12</td>\n",
       "      <td>14.45</td>\n",
       "      <td>14.51</td>\n",
       "      <td>14.10</td>\n",
       "      <td>14.27</td>\n",
       "      <td>8126000</td>\n",
       "      <td>AAL</td>\n",
       "      <td>1</td>\n",
       "      <td>12</td>\n",
       "    </tr>\n",
       "    <tr>\n",
       "      <th>3</th>\n",
       "      <td>2013-02-13</td>\n",
       "      <td>14.30</td>\n",
       "      <td>14.94</td>\n",
       "      <td>14.25</td>\n",
       "      <td>14.66</td>\n",
       "      <td>10259500</td>\n",
       "      <td>AAL</td>\n",
       "      <td>2</td>\n",
       "      <td>13</td>\n",
       "    </tr>\n",
       "    <tr>\n",
       "      <th>4</th>\n",
       "      <td>2013-02-14</td>\n",
       "      <td>14.94</td>\n",
       "      <td>14.96</td>\n",
       "      <td>13.16</td>\n",
       "      <td>13.99</td>\n",
       "      <td>31879900</td>\n",
       "      <td>AAL</td>\n",
       "      <td>3</td>\n",
       "      <td>14</td>\n",
       "    </tr>\n",
       "  </tbody>\n",
       "</table>\n",
       "</div>"
      ],
      "text/plain": [
       "        date   open   high    low  close    volume Name  day  day_of_month\n",
       "0 2013-02-08  15.07  15.12  14.63  14.75   8407500  AAL    4             8\n",
       "1 2013-02-11  14.89  15.01  14.26  14.46   8882000  AAL    0            11\n",
       "2 2013-02-12  14.45  14.51  14.10  14.27   8126000  AAL    1            12\n",
       "3 2013-02-13  14.30  14.94  14.25  14.66  10259500  AAL    2            13\n",
       "4 2013-02-14  14.94  14.96  13.16  13.99  31879900  AAL    3            14"
      ]
     },
     "execution_count": 14,
     "metadata": {},
     "output_type": "execute_result"
    }
   ],
   "source": [
    "# create a couple of quantitative features \n",
    "stocks_df['day'] = stocks_df['date'].dt.weekday\n",
    "stocks_df['day_of_month'] = stocks_df['date'].dt.day\n",
    "stocks_df.head()"
   ]
  },
  {
   "cell_type": "markdown",
   "metadata": {},
   "source": [
    "**Simplify by only using DOW 30 stocks instead of full S&P 500**"
   ]
  },
  {
   "cell_type": "code",
   "execution_count": 16,
   "metadata": {},
   "outputs": [],
   "source": [
    "stock_symbols = list(set(stocks_df['Name']))\n",
    "\n",
    "dow_30_list = ['NKE', 'AXP', 'BA', 'C', 'CAT', 'DD', 'DIS', 'GE', 'CSCO', 'HD', 'CVX', 'V', 'IBM',\n",
    "'INTC', 'JNJ', 'JPM', 'KO', 'MCD', 'MMM', 'GS', 'MRK', 'MSFT', 'PFE', 'PG', 'AAPL', 'UTX', 'VZ',\n",
    "'WMT', 'XOM', 'TRV']\n",
    " \n",
    "dow_30_symbols = (list(set(dow_30_list) & set(stock_symbols)))\n"
   ]
  },
  {
   "cell_type": "code",
   "execution_count": 17,
   "metadata": {},
   "outputs": [],
   "source": [
    "# apply some more quantitative features but make sure it doesn't spill from \n",
    "# one stock to another\n",
    "market_data = {}\n",
    "for symbol in dow_30_symbols:\n",
    "    # segregate data for that stock so it doesn't spill into other one\n",
    "    temp_df = stocks_df[stocks_df['Name'] == symbol]\n",
    "    open = temp_df['open']\n",
    "    high = temp_df['high']\n",
    "    low = temp_df['low']\n",
    "    close = temp_df['close']\n",
    "    volume = temp_df['volume']\n",
    "    close_avg_3 =  pd.rolling_mean(temp_df['close'], 3)\n",
    "    close_avg_5 =  pd.rolling_mean(temp_df['close'], 5)\n",
    "    close_avg_10 =  pd.rolling_mean(temp_df['close'], 10)\n",
    "    open_close = temp_df['close'] - temp_df['open']\n",
    "    day_ = temp_df['day']\n",
    "    day_of_month = temp_df['day_of_month']\n",
    "    date = temp_df['date']\n",
    "    # day of month\n",
    "    \n",
    "    market_data[symbol] = [open, high, low, close,\n",
    "                                volume, close_avg_3, close_avg_5, close_avg_10, open_close, day_,\n",
    "                               day_of_month, date]\n",
    "                               "
   ]
  },
  {
   "cell_type": "code",
   "execution_count": 181,
   "metadata": {},
   "outputs": [
    {
     "data": {
      "text/html": [
       "<div>\n",
       "<style scoped>\n",
       "    .dataframe tbody tr th:only-of-type {\n",
       "        vertical-align: middle;\n",
       "    }\n",
       "\n",
       "    .dataframe tbody tr th {\n",
       "        vertical-align: top;\n",
       "    }\n",
       "\n",
       "    .dataframe thead th {\n",
       "        text-align: right;\n",
       "    }\n",
       "</style>\n",
       "<table border=\"1\" class=\"dataframe\">\n",
       "  <thead>\n",
       "    <tr style=\"text-align: right;\">\n",
       "      <th></th>\n",
       "      <th>close</th>\n",
       "      <th>close_avg_10</th>\n",
       "      <th>close_avg_3</th>\n",
       "      <th>close_avg_5</th>\n",
       "      <th>date</th>\n",
       "      <th>day</th>\n",
       "      <th>day_of_month</th>\n",
       "      <th>high</th>\n",
       "      <th>low</th>\n",
       "      <th>open</th>\n",
       "      <th>open_close</th>\n",
       "      <th>raw_close</th>\n",
       "      <th>raw_open_close</th>\n",
       "      <th>raw_volume</th>\n",
       "      <th>symbol</th>\n",
       "      <th>volume</th>\n",
       "    </tr>\n",
       "  </thead>\n",
       "  <tbody>\n",
       "    <tr>\n",
       "      <th>9</th>\n",
       "      <td>38.52</td>\n",
       "      <td>37.804</td>\n",
       "      <td>37.986667</td>\n",
       "      <td>37.810</td>\n",
       "      <td>2013-02-22</td>\n",
       "      <td>4</td>\n",
       "      <td>22</td>\n",
       "      <td>38.52</td>\n",
       "      <td>37.710</td>\n",
       "      <td>37.76</td>\n",
       "      <td>0.76</td>\n",
       "      <td>38.52</td>\n",
       "      <td>0.76</td>\n",
       "      <td>20102745</td>\n",
       "      <td>KO</td>\n",
       "      <td>20102745</td>\n",
       "    </tr>\n",
       "    <tr>\n",
       "      <th>10</th>\n",
       "      <td>37.72</td>\n",
       "      <td>37.699</td>\n",
       "      <td>37.983333</td>\n",
       "      <td>37.870</td>\n",
       "      <td>2013-02-25</td>\n",
       "      <td>0</td>\n",
       "      <td>25</td>\n",
       "      <td>38.72</td>\n",
       "      <td>37.720</td>\n",
       "      <td>38.56</td>\n",
       "      <td>-0.84</td>\n",
       "      <td>37.72</td>\n",
       "      <td>-0.84</td>\n",
       "      <td>15879793</td>\n",
       "      <td>KO</td>\n",
       "      <td>15879793</td>\n",
       "    </tr>\n",
       "    <tr>\n",
       "      <th>11</th>\n",
       "      <td>38.11</td>\n",
       "      <td>37.649</td>\n",
       "      <td>38.116667</td>\n",
       "      <td>37.958</td>\n",
       "      <td>2013-02-26</td>\n",
       "      <td>1</td>\n",
       "      <td>26</td>\n",
       "      <td>38.19</td>\n",
       "      <td>37.775</td>\n",
       "      <td>37.95</td>\n",
       "      <td>0.16</td>\n",
       "      <td>38.11</td>\n",
       "      <td>0.16</td>\n",
       "      <td>15769957</td>\n",
       "      <td>KO</td>\n",
       "      <td>15769957</td>\n",
       "    </tr>\n",
       "    <tr>\n",
       "      <th>12</th>\n",
       "      <td>38.45</td>\n",
       "      <td>37.738</td>\n",
       "      <td>38.093333</td>\n",
       "      <td>38.102</td>\n",
       "      <td>2013-02-27</td>\n",
       "      <td>2</td>\n",
       "      <td>27</td>\n",
       "      <td>38.54</td>\n",
       "      <td>37.920</td>\n",
       "      <td>38.03</td>\n",
       "      <td>0.42</td>\n",
       "      <td>38.45</td>\n",
       "      <td>0.42</td>\n",
       "      <td>14277317</td>\n",
       "      <td>KO</td>\n",
       "      <td>14277317</td>\n",
       "    </tr>\n",
       "    <tr>\n",
       "      <th>13</th>\n",
       "      <td>38.72</td>\n",
       "      <td>37.889</td>\n",
       "      <td>38.426667</td>\n",
       "      <td>38.304</td>\n",
       "      <td>2013-02-28</td>\n",
       "      <td>3</td>\n",
       "      <td>28</td>\n",
       "      <td>38.97</td>\n",
       "      <td>38.420</td>\n",
       "      <td>38.47</td>\n",
       "      <td>0.25</td>\n",
       "      <td>38.72</td>\n",
       "      <td>0.25</td>\n",
       "      <td>19010564</td>\n",
       "      <td>KO</td>\n",
       "      <td>19010564</td>\n",
       "    </tr>\n",
       "  </tbody>\n",
       "</table>\n",
       "</div>"
      ],
      "text/plain": [
       "    close  close_avg_10  close_avg_3  close_avg_5       date  day  \\\n",
       "9   38.52        37.804    37.986667       37.810 2013-02-22    4   \n",
       "10  37.72        37.699    37.983333       37.870 2013-02-25    0   \n",
       "11  38.11        37.649    38.116667       37.958 2013-02-26    1   \n",
       "12  38.45        37.738    38.093333       38.102 2013-02-27    2   \n",
       "13  38.72        37.889    38.426667       38.304 2013-02-28    3   \n",
       "\n",
       "    day_of_month   high     low   open  open_close  raw_close  raw_open_close  \\\n",
       "9             22  38.52  37.710  37.76        0.76      38.52            0.76   \n",
       "10            25  38.72  37.720  38.56       -0.84      37.72           -0.84   \n",
       "11            26  38.19  37.775  37.95        0.16      38.11            0.16   \n",
       "12            27  38.54  37.920  38.03        0.42      38.45            0.42   \n",
       "13            28  38.97  38.420  38.47        0.25      38.72            0.25   \n",
       "\n",
       "    raw_volume symbol    volume  \n",
       "9     20102745     KO  20102745  \n",
       "10    15879793     KO  15879793  \n",
       "11    15769957     KO  15769957  \n",
       "12    14277317     KO  14277317  \n",
       "13    19010564     KO  19010564  "
      ]
     },
     "execution_count": 181,
     "metadata": {},
     "output_type": "execute_result"
    }
   ],
   "source": [
    "# rebuild data frame\n",
    "fin_open = []\n",
    "fin_high = []\n",
    "fin_low = []\n",
    "fin_close = []\n",
    "fin_volume = []\n",
    "fin_close_avg_3 = []\n",
    "fin_close_avg_5 = []\n",
    "fin_close_avg_10 = []\n",
    "fin_open_close = []\n",
    "\n",
    "fin_day_ = []\n",
    "fin_day_of_month = []\n",
    "fin_date = []\n",
    "fin_symbol = []\n",
    "\n",
    "fin_high_high_diff3 = []\n",
    "fin_low_low_diff3 = []\n",
    "fin_open_open_diff3 = []\n",
    "fin_close_close_diff3 = []\n",
    "fin_volume_volume_diff3 = []\n",
    "\n",
    "\n",
    "for key, value in market_data.items():\n",
    "    fin_open.extend(list(value[0]))\n",
    "    fin_high.extend(list(value[1]))\n",
    "    fin_low.extend(list(value[2]))\n",
    "    fin_close.extend(list(value[3]))\n",
    "    fin_volume.extend(list(value[4]))\n",
    "    fin_close_avg_3.extend(list(value[5]))\n",
    "    fin_close_avg_5.extend(list(value[6]))\n",
    "    fin_close_avg_10.extend(list(value[7]))\n",
    "    fin_open_close.extend(list(value[8]))\n",
    "    fin_day_.extend(list(value[9]))\n",
    "    fin_day_of_month.extend(list(value[10]))\n",
    "    fin_date.extend(list(value[11]))\n",
    "    fin_symbol.extend([key] * len(value[11]))\n",
    "\n",
    "# build final data frame for CVAE\n",
    "norm_stocks_df = pd.DataFrame({'symbol':fin_symbol, \n",
    "                            'open':fin_open,\n",
    "                            'high':fin_high,\n",
    "                            'low':fin_low,\n",
    "                            'close':fin_close,\n",
    "                            'raw_close':fin_close,\n",
    "                            'volume':fin_volume,\n",
    "                            'raw_volume':fin_volume,\n",
    "                            'close_avg_3':fin_close_avg_3,\n",
    "                            'close_avg_5':fin_close_avg_5,\n",
    "                            'close_avg_10':fin_close_avg_10,\n",
    "                            'open_close':fin_open_close,\n",
    "                            'raw_open_close':fin_open_close,\n",
    "                            'day':fin_day_,\n",
    "                            'day_of_month':fin_day_of_month,\n",
    "                            'date':fin_date})\n",
    "\n",
    "# remove any rows with NaN or inf columns\n",
    "norm_stocks_df = norm_stocks_df.replace([np.inf, -np.inf], np.nan)\n",
    "norm_stocks_df = norm_stocks_df.dropna(how='any')\n",
    "\n",
    "norm_stocks_df.head(5)"
   ]
  },
  {
   "cell_type": "markdown",
   "metadata": {},
   "source": [
    "**Normalize And Impute Missing Data**"
   ]
  },
  {
   "cell_type": "code",
   "execution_count": 218,
   "metadata": {},
   "outputs": [
    {
     "name": "stdout",
     "output_type": "stream",
     "text": [
      "['close', 'close_avg_10', 'close_avg_3', 'close_avg_5', 'day', 'day_of_month', 'high', 'low', 'open', 'open_close', 'volume']\n"
     ]
    },
    {
     "data": {
      "text/plain": [
       "TRV     1250\n",
       "CVX     1250\n",
       "PG      1250\n",
       "MRK     1250\n",
       "DIS     1250\n",
       "KO      1250\n",
       "CSCO    1250\n",
       "UTX     1250\n",
       "HD      1250\n",
       "NKE     1250\n",
       "JNJ     1250\n",
       "WMT     1250\n",
       "AAPL    1250\n",
       "INTC    1250\n",
       "GS      1250\n",
       "CAT     1250\n",
       "VZ      1250\n",
       "AXP     1250\n",
       "JPM     1250\n",
       "MSFT    1250\n",
       "MMM     1250\n",
       "GE      1250\n",
       "C       1250\n",
       "PFE     1250\n",
       "V       1250\n",
       "XOM     1250\n",
       "MCD     1250\n",
       "IBM     1250\n",
       "BA      1250\n",
       "Name: symbol, dtype: int64"
      ]
     },
     "execution_count": 218,
     "metadata": {},
     "output_type": "execute_result"
    }
   ],
   "source": [
    "features = [f for f in list(norm_stocks_df) if f not in ['date', 'symbol', 'raw_close', 'raw_open_close', 'raw_volume']]\n",
    "\n",
    "df = norm_stocks_df.copy()\n",
    "\n",
    "# Take all numerical cols and normalize data b/w 0 and 1\n",
    "df[features] = df[features].apply(lambda x: (x - x.min()) / (x.max() - x.min()))\n",
    "\n",
    "print(features)\n",
    "\n",
    "df['symbol'].value_counts()"
   ]
  },
  {
   "cell_type": "markdown",
   "metadata": {},
   "source": [
    "\n",
    "**CVAE on label + one hot encoding**"
   ]
  },
  {
   "cell_type": "code",
   "execution_count": 183,
   "metadata": {},
   "outputs": [
    {
     "name": "stdout",
     "output_type": "stream",
     "text": [
      "[[0. 0. 0. 0. 0. 0. 0. 0. 0. 0. 0. 0. 0. 0. 0. 1. 0. 0. 0. 0. 0. 0. 0. 0.\n",
      "  0. 0. 0. 0. 0.]\n",
      " [0. 0. 0. 0. 0. 0. 0. 0. 0. 0. 0. 0. 0. 0. 0. 1. 0. 0. 0. 0. 0. 0. 0. 0.\n",
      "  0. 0. 0. 0. 0.]\n",
      " [0. 0. 0. 0. 0. 0. 0. 0. 0. 0. 0. 0. 0. 0. 0. 1. 0. 0. 0. 0. 0. 0. 0. 0.\n",
      "  0. 0. 0. 0. 0.]\n",
      " [0. 0. 0. 0. 0. 0. 0. 0. 0. 0. 0. 0. 0. 0. 0. 1. 0. 0. 0. 0. 0. 0. 0. 0.\n",
      "  0. 0. 0. 0. 0.]]\n",
      "28\n"
     ]
    }
   ],
   "source": [
    "\n",
    "from sklearn.preprocessing import LabelEncoder\n",
    "from keras.utils import np_utils\n",
    "\n",
    "label = df['symbol']\n",
    "\n",
    "le= LabelEncoder().fit(label)\n",
    "encoded_Y = le.transform(label)  # convert categorical labels to integers\n",
    "# convert integers to dummy variables (i.e. one hot encoded)\n",
    "dummy_y = np_utils.to_categorical(encoded_Y)\n",
    "\n",
    "print(dummy_y[:4])\n",
    "\n",
    "num_symbols = max(encoded_Y)\n",
    "print(num_symbols)"
   ]
  },
  {
   "cell_type": "code",
   "execution_count": 184,
   "metadata": {},
   "outputs": [
    {
     "data": {
      "text/plain": [
       "array(['AAPL', 'AXP', 'BA', 'C', 'CAT', 'CSCO', 'CVX', 'DIS', 'GE', 'GS',\n",
       "       'HD', 'IBM', 'INTC', 'JNJ', 'JPM', 'KO', 'MCD', 'MMM', 'MRK',\n",
       "       'MSFT', 'NKE', 'PFE', 'PG', 'TRV', 'UTX', 'V', 'VZ', 'WMT', 'XOM'],\n",
       "      dtype=object)"
      ]
     },
     "execution_count": 184,
     "metadata": {},
     "output_type": "execute_result"
    }
   ],
   "source": [
    "le.classes_"
   ]
  },
  {
   "cell_type": "markdown",
   "metadata": {},
   "source": [
    "**Split the dataset into train, validation and test sets**\n",
    "\n",
    "Save a copy of the full data for a particular stock to investigate (in this case symbol 0, or AAPL)"
   ]
  },
  {
   "cell_type": "code",
   "execution_count": 240,
   "metadata": {},
   "outputs": [
    {
     "name": "stdout",
     "output_type": "stream",
     "text": [
      "Generate stock data for: AAPL\n",
      "X shape:  (26100, 11) (2900, 11) (7250, 11)\n",
      "Y shape:  (26100, 29) (2900, 29) (7250, 29)\n"
     ]
    }
   ],
   "source": [
    "###################################################\n",
    "## save the stock of interest for anomaly testing\n",
    "stock_symbol_identifier = 0\n",
    "print('Generate stock data for:', \n",
    "      le.classes_[stock_symbol_identifier])\n",
    "###################################################\n",
    "\n",
    "df_stock = df[df['symbol']==le.classes_[stock_symbol_identifier]].tail(100)\n",
    "stock_dummy = dummy_y[1150:1250]\n",
    "stock_dummy.fill(0)\n",
    "stock_dummy[:,stock_symbol_identifier] = 1\n",
    "\n",
    " \n",
    "## Break into train and test dataset\n",
    "features = [f for f in list(norm_stocks_df)]\n",
    "X_train, X_test, y_train, y_test = train_test_split(df[features], dummy_y, test_size=0.20, random_state=26)\n",
    "X_train, X_valid, y_train, y_valid = train_test_split(X_train, y_train, test_size=0.10, random_state=89)\n",
    "\n",
    "# take copy of test set with symbol and date features for anomaly investigation\n",
    "X_test_with_symbol = X_test.copy()\n",
    "features = [f for f in list(norm_stocks_df) if f not in ['date', 'symbol',  'raw_close', 'raw_open_close', 'raw_volume']]\n",
    "X_test = X_test[features]\n",
    "X_train = X_train[features]\n",
    "X_valid = X_valid[features]\n",
    "\n",
    "print(\"X shape: \", X_train.shape, X_valid.shape, X_test.shape)\n",
    "print(\"Y shape: \", y_train.shape, y_valid.shape, y_test.shape)"
   ]
  },
  {
   "cell_type": "code",
   "execution_count": 241,
   "metadata": {},
   "outputs": [
    {
     "data": {
      "text/plain": [
       "['close',\n",
       " 'close_avg_10',\n",
       " 'close_avg_3',\n",
       " 'close_avg_5',\n",
       " 'day',\n",
       " 'day_of_month',\n",
       " 'high',\n",
       " 'low',\n",
       " 'open',\n",
       " 'open_close',\n",
       " 'volume']"
      ]
     },
     "execution_count": 241,
     "metadata": {},
     "output_type": "execute_result"
    }
   ],
   "source": [
    "features"
   ]
  },
  {
   "cell_type": "code",
   "execution_count": 242,
   "metadata": {},
   "outputs": [
    {
     "data": {
      "text/html": [
       "<div>\n",
       "<style scoped>\n",
       "    .dataframe tbody tr th:only-of-type {\n",
       "        vertical-align: middle;\n",
       "    }\n",
       "\n",
       "    .dataframe tbody tr th {\n",
       "        vertical-align: top;\n",
       "    }\n",
       "\n",
       "    .dataframe thead th {\n",
       "        text-align: right;\n",
       "    }\n",
       "</style>\n",
       "<table border=\"1\" class=\"dataframe\">\n",
       "  <thead>\n",
       "    <tr style=\"text-align: right;\">\n",
       "      <th></th>\n",
       "      <th>close</th>\n",
       "      <th>close_avg_10</th>\n",
       "      <th>close_avg_3</th>\n",
       "      <th>close_avg_5</th>\n",
       "      <th>day</th>\n",
       "      <th>day_of_month</th>\n",
       "      <th>high</th>\n",
       "      <th>low</th>\n",
       "      <th>open</th>\n",
       "      <th>open_close</th>\n",
       "      <th>volume</th>\n",
       "    </tr>\n",
       "  </thead>\n",
       "  <tbody>\n",
       "    <tr>\n",
       "      <th>1954</th>\n",
       "      <td>0.225945</td>\n",
       "      <td>0.237173</td>\n",
       "      <td>0.228924</td>\n",
       "      <td>0.234242</td>\n",
       "      <td>0.50</td>\n",
       "      <td>0.333333</td>\n",
       "      <td>0.226425</td>\n",
       "      <td>0.228708</td>\n",
       "      <td>0.227291</td>\n",
       "      <td>0.362824</td>\n",
       "      <td>0.009354</td>\n",
       "    </tr>\n",
       "    <tr>\n",
       "      <th>7205</th>\n",
       "      <td>0.215390</td>\n",
       "      <td>0.219025</td>\n",
       "      <td>0.216370</td>\n",
       "      <td>0.218444</td>\n",
       "      <td>0.25</td>\n",
       "      <td>0.633333</td>\n",
       "      <td>0.212675</td>\n",
       "      <td>0.217799</td>\n",
       "      <td>0.213145</td>\n",
       "      <td>0.399712</td>\n",
       "      <td>0.054506</td>\n",
       "    </tr>\n",
       "    <tr>\n",
       "      <th>35230</th>\n",
       "      <td>0.211180</td>\n",
       "      <td>0.211297</td>\n",
       "      <td>0.212142</td>\n",
       "      <td>0.213852</td>\n",
       "      <td>0.00</td>\n",
       "      <td>0.233333</td>\n",
       "      <td>0.207477</td>\n",
       "      <td>0.213125</td>\n",
       "      <td>0.207938</td>\n",
       "      <td>0.410086</td>\n",
       "      <td>0.017189</td>\n",
       "    </tr>\n",
       "    <tr>\n",
       "      <th>36308</th>\n",
       "      <td>0.147911</td>\n",
       "      <td>0.151045</td>\n",
       "      <td>0.148307</td>\n",
       "      <td>0.150013</td>\n",
       "      <td>0.75</td>\n",
       "      <td>0.633333</td>\n",
       "      <td>0.145647</td>\n",
       "      <td>0.149498</td>\n",
       "      <td>0.146494</td>\n",
       "      <td>0.398559</td>\n",
       "      <td>0.035593</td>\n",
       "    </tr>\n",
       "    <tr>\n",
       "      <th>6455</th>\n",
       "      <td>0.182148</td>\n",
       "      <td>0.192645</td>\n",
       "      <td>0.184817</td>\n",
       "      <td>0.188841</td>\n",
       "      <td>1.00</td>\n",
       "      <td>0.866667</td>\n",
       "      <td>0.180318</td>\n",
       "      <td>0.183974</td>\n",
       "      <td>0.182047</td>\n",
       "      <td>0.381844</td>\n",
       "      <td>0.010108</td>\n",
       "    </tr>\n",
       "  </tbody>\n",
       "</table>\n",
       "</div>"
      ],
      "text/plain": [
       "          close  close_avg_10  close_avg_3  close_avg_5   day  day_of_month  \\\n",
       "1954   0.225945      0.237173     0.228924     0.234242  0.50      0.333333   \n",
       "7205   0.215390      0.219025     0.216370     0.218444  0.25      0.633333   \n",
       "35230  0.211180      0.211297     0.212142     0.213852  0.00      0.233333   \n",
       "36308  0.147911      0.151045     0.148307     0.150013  0.75      0.633333   \n",
       "6455   0.182148      0.192645     0.184817     0.188841  1.00      0.866667   \n",
       "\n",
       "           high       low      open  open_close    volume  \n",
       "1954   0.226425  0.228708  0.227291    0.362824  0.009354  \n",
       "7205   0.212675  0.217799  0.213145    0.399712  0.054506  \n",
       "35230  0.207477  0.213125  0.207938    0.410086  0.017189  \n",
       "36308  0.145647  0.149498  0.146494    0.398559  0.035593  \n",
       "6455   0.180318  0.183974  0.182047    0.381844  0.010108  "
      ]
     },
     "execution_count": 242,
     "metadata": {},
     "output_type": "execute_result"
    }
   ],
   "source": [
    "X_train.tail()"
   ]
  },
  {
   "cell_type": "code",
   "execution_count": 243,
   "metadata": {},
   "outputs": [
    {
     "name": "stdout",
     "output_type": "stream",
     "text": [
      "522\n",
      "(26100, 11) (26100, 29)\n",
      "(2900, 11) (2900, 29)\n",
      "(7250, 11) (7250, 29)\n"
     ]
    }
   ],
   "source": [
    "## discard incomplete batches\n",
    "m = 50 # batch size\n",
    "\n",
    "num_batches_train = X_train.shape[0]//m\n",
    "print(num_batches_train)\n",
    "X_train_trun = X_train.head(num_batches_train*m)\n",
    "y_train_trun = y_train[:num_batches_train*m,:]\n",
    "print(X_train_trun.shape, y_train_trun.shape)\n",
    "\n",
    "num_batches_valid = X_valid.shape[0]//m\n",
    "X_valid_trun = X_valid.head(num_batches_valid*m)\n",
    "y_valid_trun = y_valid[:num_batches_valid*m,:]\n",
    "print(X_valid_trun.shape, y_valid_trun.shape)\n",
    "\n",
    "num_batches_test = X_test.shape[0]//m\n",
    "X_test_trun = X_test.head(num_batches_test*m)\n",
    "y_test_trun = y_test[:num_batches_test*m,:]\n",
    "print(X_test_trun.shape, y_test_trun.shape)"
   ]
  },
  {
   "cell_type": "markdown",
   "metadata": {},
   "source": [
    "<H2> I will Build next a CVAE</H2>"
   ]
  }
 ],
 "metadata": {
  "kernelspec": {
   "display_name": "Python 3",
   "language": "python",
   "name": "python3"
  },
  "language_info": {
   "codemirror_mode": {
    "name": "ipython",
    "version": 3
   },
   "file_extension": ".py",
   "mimetype": "text/x-python",
   "name": "python",
   "nbconvert_exporter": "python",
   "pygments_lexer": "ipython3",
   "version": "3.7.6"
  }
 },
 "nbformat": 4,
 "nbformat_minor": 2
}
