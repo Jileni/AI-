{
 "cells": [
  {
   "cell_type": "markdown",
   "metadata": {},
   "source": [
    "## Bundle Adjustment"
   ]
  },
  {
   "cell_type": "markdown",
   "metadata": {},
   "source": [
    "- method to simultaneously optimize camera poses and map points\n",
    "- used as last step of reconstruction"
   ]
  },
  {
   "cell_type": "markdown",
   "metadata": {},
   "source": [
    "- goal: minimize reprojection error with respect to the matched keypoints\n",
    "- $n$ 3D points seen in $m$ views\n",
    "- $x_{ij}$ is the projection of $i$th point on image $j$\n",
    "\n",
    "- each camera $j$ parameterized by a vector $a_j$, each 3D point $i$ by a vector $b_i$\n"
   ]
  },
  {
   "cell_type": "markdown",
   "metadata": {},
   "source": [
    "Minimize error function:\n",
    "\n",
    "\n",
    "$\\min_{a_j,b_i} \\sum_{i=1}^{n} \\sum_{j=1}^{m} v_{ij} d(Q(a_j, b_i), x_{ij})^2$\n",
    "\n",
    "\n",
    "where:\n",
    "- $Q(a_j, b_i)$ is the predicted projection of point $i$ on image $j$\n",
    "- $d(x,y)$ denotes the Euclidean distance between image points\n",
    "- $v_{ij} = \\left\\{\n",
    "        \\begin{array}\\\\\n",
    "            1 & \\mbox{if point $i$ is visible in image $j$}\\\\\n",
    "            0 & \\mbox{otherwise}\n",
    "        \\end{array}\n",
    "     \\right.$"
   ]
  },
  {
   "cell_type": "markdown",
   "metadata": {},
   "source": [
    "Algorithms to solve optimization:\n",
    "- Gradient Descent\n",
    "- Newton Method\n",
    "- Gauss-Newton\n",
    "- Levenberg-Marquardt"
   ]
  },
  {
   "cell_type": "code",
   "execution_count": null,
   "metadata": {},
   "outputs": [],
   "source": []
  }
 ],
 "metadata": {
  "kernelspec": {
   "display_name": "Python 3",
   "language": "python",
   "name": "python3"
  },
  "language_info": {
   "codemirror_mode": {
    "name": "ipython",
    "version": 3
   },
   "file_extension": ".py",
   "mimetype": "text/x-python",
   "name": "python",
   "nbconvert_exporter": "python",
   "pygments_lexer": "ipython3",
   "version": "3.7.6"
  }
 },
 "nbformat": 4,
 "nbformat_minor": 4
}
